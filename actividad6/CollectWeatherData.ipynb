{
 "cells": [
  {
   "cell_type": "code",
   "execution_count": 3,
   "id": "0609b4b6",
   "metadata": {},
   "outputs": [],
   "source": [
    "import requests\n",
    "import pandas as pd\n",
    "import numpy as np\n",
    "from keys import *\n",
    "\n",
    "#Nombre de la Ciudad \n",
    "city = \"Naucalpan\"\n",
    "\n",
    "#Abreviatura de del PAIS\n",
    "country = \"MX\"\n",
    "\n",
    "#Se pide el clima a la página web/\n",
    "response = requests.get(f'http://api.openweathermap.org/data/2.5/forecast/?q={city},{country}&appid={OWM_key}&units=metric&lang=en')"
   ]
  },
  {
   "cell_type": "code",
   "execution_count": 4,
   "id": "452f01b4",
   "metadata": {},
   "outputs": [
    {
     "name": "stdout",
     "output_type": "stream",
     "text": [
      "      weather_datetime  temperature  humidity weather_status  wind  rain_qty  \\\n",
      "0  2025-10-30 00:00:00        20.08        26         Clouds  5.32       NaN   \n",
      "1  2025-10-30 03:00:00        17.65        37         Clouds  3.63       NaN   \n",
      "2  2025-10-30 06:00:00        14.43        54         Clouds  2.05       NaN   \n",
      "3  2025-10-30 09:00:00         7.56        70         Clouds  1.45       NaN   \n",
      "4  2025-10-30 12:00:00         5.97        75         Clouds  1.33       NaN   \n",
      "\n",
      "   snow municipality_iso_country  \n",
      "0   NaN             Naucalpan,MX  \n",
      "1   NaN             Naucalpan,MX  \n",
      "2   NaN             Naucalpan,MX  \n",
      "3   NaN             Naucalpan,MX  \n",
      "4   NaN             Naucalpan,MX  \n"
     ]
    }
   ],
   "source": [
    "#Guardam los datos del clima en formato JSON\n",
    "data = response.json()\n",
    "#print(data)\n",
    "\n",
    "# Extraemos la lista del pronóstico del clima\n",
    "forecast_list = data.get('list', [])\n",
    "\n",
    "# Preparamos listas para las columnas del DataFrame\n",
    "times = []\n",
    "temperatures = []\n",
    "humidities = []\n",
    "weather_statuses = []\n",
    "wind_speeds = []\n",
    "rain_volumes = []\n",
    "snow_volumes = []\n",
    "\n",
    "# extraemos los datos para cada columna, tamperatura, humedad, etc \n",
    "\n",
    "for entry in forecast_list:\n",
    "    times.append(entry.get('dt_txt', np.nan))\n",
    "    temperatures.append(entry.get('main', {}).get('temp', np.nan))\n",
    "    humidities.append(entry.get('main', {}).get('humidity', np.nan))\n",
    "    weather_statuses.append(entry.get('weather', [{}])[0].get('main', np.nan))\n",
    "    wind_speeds.append(entry.get('wind', {}).get('speed', np.nan))\n",
    "    rain_volumes.append(entry.get('rain', {}).get('3h', np.nan))\n",
    "    snow_volumes.append(entry.get('snow', {}).get('3h', np.nan))\n",
    "\n",
    "# Creamos DataFrame\n",
    "df = pd.DataFrame({\n",
    "    'weather_datetime': times,\n",
    "    'temperature': temperatures,\n",
    "    'humidity': humidities,\n",
    "    'weather_status': weather_statuses,\n",
    "    'wind': wind_speeds,\n",
    "    'rain_qty': rain_volumes,\n",
    "    'snow': snow_volumes,\n",
    "    'municipality_iso_country': f\"Naucalpan,MX\"\n",
    "})\n",
    "\n",
    "print(df.head())"
   ]
  },
  {
   "cell_type": "code",
   "execution_count": 15,
   "id": "aa9d89a1",
   "metadata": {},
   "outputs": [],
   "source": [
    "import sqlalchemy\n",
    "import pymysql\n",
    "# connection details for the local mysql database\n",
    "schema = \"gans\"\n",
    "host = \"127.0.0.1\"\n",
    "user = \"root\"\n",
    "password = \"Danis0210\"\n",
    "port = 3306\n",
    "con = f'mysql+pymysql://{user}:{password}@{host}:{port}/{schema}'\n"
   ]
  },
  {
   "cell_type": "code",
   "execution_count": 17,
   "id": "329b516f",
   "metadata": {},
   "outputs": [
    {
     "data": {
      "text/plain": [
       "40"
      ]
     },
     "execution_count": 17,
     "metadata": {},
     "output_type": "execute_result"
    }
   ],
   "source": [
    "# send the weather data to the database\n",
    "df.to_sql('weather_data', if_exists = 'append', con = con, index=False)"
   ]
  }
 ],
 "metadata": {
  "kernelspec": {
   "display_name": "Python 3",
   "language": "python",
   "name": "python3"
  },
  "language_info": {
   "codemirror_mode": {
    "name": "ipython",
    "version": 3
   },
   "file_extension": ".py",
   "mimetype": "text/x-python",
   "name": "python",
   "nbconvert_exporter": "python",
   "pygments_lexer": "ipython3",
   "version": "3.11.9"
  }
 },
 "nbformat": 4,
 "nbformat_minor": 5
}
