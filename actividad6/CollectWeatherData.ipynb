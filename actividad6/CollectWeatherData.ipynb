{
 "cells": [
  {
   "cell_type": "code",
   "execution_count": null,
   "id": "0609b4b6",
   "metadata": {},
   "outputs": [],
   "source": [
    "import requests\n",
    "import pandas as pd\n",
    "import numpy as np\n",
    "from keys import *\n",
    "\n",
    "#Nombre de la Ciudad \n",
    "city = \"Florence\"\n",
    "\n",
    "#Abreviatura de del PAIS\n",
    "country = \"IT\"\n",
    "response = requests.get(f'http://api.openweathermap.org/data/2.5/forecast/?q={city},{country}&appid={OWM_key}&units=metric&lang=en')"
   ]
  },
  {
   "cell_type": "code",
   "execution_count": null,
   "id": "452f01b4",
   "metadata": {},
   "outputs": [
    {
     "name": "stdout",
     "output_type": "stream",
     "text": [
      "{'cod': '200', 'message': 0, 'cnt': 40, 'list': [{'dt': 1758758400, 'main': {'temp': 16.21, 'feels_like': 15.9, 'temp_min': 16.21, 'temp_max': 16.21, 'pressure': 1016, 'sea_level': 1016, 'grnd_level': 993, 'humidity': 77, 'temp_kf': 0}, 'weather': [{'id': 500, 'main': 'Rain', 'description': 'light rain', 'icon': '10n'}], 'clouds': {'all': 61}, 'wind': {'speed': 1.6, 'deg': 166, 'gust': 3.93}, 'visibility': 10000, 'pop': 0.2, 'rain': {'3h': 0.19}, 'sys': {'pod': 'n'}, 'dt_txt': '2025-09-25 00:00:00'}, {'dt': 1758769200, 'main': {'temp': 16.31, 'feels_like': 16.03, 'temp_min': 16.31, 'temp_max': 16.51, 'pressure': 1016, 'sea_level': 1016, 'grnd_level': 992, 'humidity': 78, 'temp_kf': -0.2}, 'weather': [{'id': 500, 'main': 'Rain', 'description': 'light rain', 'icon': '10n'}], 'clouds': {'all': 64}, 'wind': {'speed': 1.98, 'deg': 144, 'gust': 3.4}, 'visibility': 10000, 'pop': 0.2, 'rain': {'3h': 0.13}, 'sys': {'pod': 'n'}, 'dt_txt': '2025-09-25 03:00:00'}, {'dt': 1758780000, 'main': {'temp': 16.3, 'feels_like': 16, 'temp_min': 16.3, 'temp_max': 16.35, 'pressure': 1017, 'sea_level': 1017, 'grnd_level': 993, 'humidity': 77, 'temp_kf': -0.05}, 'weather': [{'id': 803, 'main': 'Clouds', 'description': 'broken clouds', 'icon': '04d'}], 'clouds': {'all': 67}, 'wind': {'speed': 1.68, 'deg': 148, 'gust': 2.43}, 'visibility': 10000, 'pop': 0, 'sys': {'pod': 'd'}, 'dt_txt': '2025-09-25 06:00:00'}, {'dt': 1758790800, 'main': {'temp': 19.18, 'feels_like': 19.22, 'temp_min': 19.18, 'temp_max': 19.18, 'pressure': 1018, 'sea_level': 1018, 'grnd_level': 994, 'humidity': 79, 'temp_kf': 0}, 'weather': [{'id': 500, 'main': 'Rain', 'description': 'light rain', 'icon': '10d'}], 'clouds': {'all': 69}, 'wind': {'speed': 1.95, 'deg': 181, 'gust': 3.87}, 'visibility': 10000, 'pop': 1, 'rain': {'3h': 0.96}, 'sys': {'pod': 'd'}, 'dt_txt': '2025-09-25 09:00:00'}, {'dt': 1758801600, 'main': {'temp': 18.87, 'feels_like': 18.9, 'temp_min': 18.87, 'temp_max': 18.87, 'pressure': 1018, 'sea_level': 1018, 'grnd_level': 994, 'humidity': 80, 'temp_kf': 0}, 'weather': [{'id': 500, 'main': 'Rain', 'description': 'light rain', 'icon': '10d'}], 'clouds': {'all': 85}, 'wind': {'speed': 1.05, 'deg': 135, 'gust': 1.49}, 'visibility': 7977, 'pop': 1, 'rain': {'3h': 1.57}, 'sys': {'pod': 'd'}, 'dt_txt': '2025-09-25 12:00:00'}, {'dt': 1758812400, 'main': {'temp': 17.42, 'feels_like': 17.28, 'temp_min': 17.42, 'temp_max': 17.42, 'pressure': 1018, 'sea_level': 1018, 'grnd_level': 994, 'humidity': 79, 'temp_kf': 0}, 'weather': [{'id': 500, 'main': 'Rain', 'description': 'light rain', 'icon': '10d'}], 'clouds': {'all': 94}, 'wind': {'speed': 1.61, 'deg': 253, 'gust': 6.83}, 'visibility': 10000, 'pop': 1, 'rain': {'3h': 1.69}, 'sys': {'pod': 'd'}, 'dt_txt': '2025-09-25 15:00:00'}, {'dt': 1758823200, 'main': {'temp': 15.24, 'feels_like': 15.12, 'temp_min': 15.24, 'temp_max': 15.24, 'pressure': 1018, 'sea_level': 1018, 'grnd_level': 994, 'humidity': 88, 'temp_kf': 0}, 'weather': [{'id': 500, 'main': 'Rain', 'description': 'light rain', 'icon': '10n'}], 'clouds': {'all': 64}, 'wind': {'speed': 1.84, 'deg': 135, 'gust': 1.59}, 'visibility': 10000, 'pop': 1, 'rain': {'3h': 0.56}, 'sys': {'pod': 'n'}, 'dt_txt': '2025-09-25 18:00:00'}, {'dt': 1758834000, 'main': {'temp': 14.68, 'feels_like': 14.48, 'temp_min': 14.68, 'temp_max': 14.68, 'pressure': 1019, 'sea_level': 1019, 'grnd_level': 995, 'humidity': 87, 'temp_kf': 0}, 'weather': [{'id': 801, 'main': 'Clouds', 'description': 'few clouds', 'icon': '02n'}], 'clouds': {'all': 13}, 'wind': {'speed': 1.34, 'deg': 110, 'gust': 1.17}, 'visibility': 10000, 'pop': 0, 'sys': {'pod': 'n'}, 'dt_txt': '2025-09-25 21:00:00'}, {'dt': 1758844800, 'main': {'temp': 13.9, 'feels_like': 13.64, 'temp_min': 13.9, 'temp_max': 13.9, 'pressure': 1020, 'sea_level': 1020, 'grnd_level': 996, 'humidity': 88, 'temp_kf': 0}, 'weather': [{'id': 500, 'main': 'Rain', 'description': 'light rain', 'icon': '10n'}], 'clouds': {'all': 14}, 'wind': {'speed': 0.66, 'deg': 128, 'gust': 0.6}, 'visibility': 10000, 'pop': 0.2, 'rain': {'3h': 0.15}, 'sys': {'pod': 'n'}, 'dt_txt': '2025-09-26 00:00:00'}, {'dt': 1758855600, 'main': {'temp': 14.22, 'feels_like': 14.07, 'temp_min': 14.22, 'temp_max': 14.22, 'pressure': 1019, 'sea_level': 1019, 'grnd_level': 995, 'humidity': 91, 'temp_kf': 0}, 'weather': [{'id': 500, 'main': 'Rain', 'description': 'light rain', 'icon': '10n'}], 'clouds': {'all': 87}, 'wind': {'speed': 0.17, 'deg': 73, 'gust': 0.12}, 'visibility': 10000, 'pop': 0.66, 'rain': {'3h': 0.43}, 'sys': {'pod': 'n'}, 'dt_txt': '2025-09-26 03:00:00'}, {'dt': 1758866400, 'main': {'temp': 14.42, 'feels_like': 14.35, 'temp_min': 14.42, 'temp_max': 14.42, 'pressure': 1020, 'sea_level': 1020, 'grnd_level': 996, 'humidity': 93, 'temp_kf': 0}, 'weather': [{'id': 500, 'main': 'Rain', 'description': 'light rain', 'icon': '10d'}], 'clouds': {'all': 93}, 'wind': {'speed': 0.8, 'deg': 49, 'gust': 0.88}, 'visibility': 10000, 'pop': 0.88, 'rain': {'3h': 1.42}, 'sys': {'pod': 'd'}, 'dt_txt': '2025-09-26 06:00:00'}, {'dt': 1758877200, 'main': {'temp': 18.59, 'feels_like': 18.41, 'temp_min': 18.59, 'temp_max': 18.59, 'pressure': 1020, 'sea_level': 1020, 'grnd_level': 996, 'humidity': 73, 'temp_kf': 0}, 'weather': [{'id': 500, 'main': 'Rain', 'description': 'light rain', 'icon': '10d'}], 'clouds': {'all': 88}, 'wind': {'speed': 0.99, 'deg': 208, 'gust': 2.45}, 'visibility': 10000, 'pop': 0.35, 'rain': {'3h': 0.22}, 'sys': {'pod': 'd'}, 'dt_txt': '2025-09-26 09:00:00'}, {'dt': 1758888000, 'main': {'temp': 21.51, 'feels_like': 21.13, 'temp_min': 21.51, 'temp_max': 21.51, 'pressure': 1020, 'sea_level': 1020, 'grnd_level': 996, 'humidity': 54, 'temp_kf': 0}, 'weather': [{'id': 500, 'main': 'Rain', 'description': 'light rain', 'icon': '10d'}], 'clouds': {'all': 80}, 'wind': {'speed': 2.9, 'deg': 260, 'gust': 4.73}, 'visibility': 10000, 'pop': 0.43, 'rain': {'3h': 0.28}, 'sys': {'pod': 'd'}, 'dt_txt': '2025-09-26 12:00:00'}, {'dt': 1758898800, 'main': {'temp': 21.04, 'feels_like': 20.56, 'temp_min': 21.04, 'temp_max': 21.04, 'pressure': 1019, 'sea_level': 1019, 'grnd_level': 995, 'humidity': 52, 'temp_kf': 0}, 'weather': [{'id': 803, 'main': 'Clouds', 'description': 'broken clouds', 'icon': '04d'}], 'clouds': {'all': 66}, 'wind': {'speed': 2.86, 'deg': 285, 'gust': 3.94}, 'visibility': 10000, 'pop': 0, 'sys': {'pod': 'd'}, 'dt_txt': '2025-09-26 15:00:00'}, {'dt': 1758909600, 'main': {'temp': 18.1, 'feels_like': 17.66, 'temp_min': 18.1, 'temp_max': 18.1, 'pressure': 1020, 'sea_level': 1020, 'grnd_level': 996, 'humidity': 65, 'temp_kf': 0}, 'weather': [{'id': 803, 'main': 'Clouds', 'description': 'broken clouds', 'icon': '04n'}], 'clouds': {'all': 65}, 'wind': {'speed': 0.56, 'deg': 356, 'gust': 0.5}, 'visibility': 10000, 'pop': 0, 'sys': {'pod': 'n'}, 'dt_txt': '2025-09-26 18:00:00'}, {'dt': 1758920400, 'main': {'temp': 16.73, 'feels_like': 16.31, 'temp_min': 16.73, 'temp_max': 16.73, 'pressure': 1021, 'sea_level': 1021, 'grnd_level': 997, 'humidity': 71, 'temp_kf': 0}, 'weather': [{'id': 800, 'main': 'Clear', 'description': 'clear sky', 'icon': '01n'}], 'clouds': {'all': 1}, 'wind': {'speed': 0.46, 'deg': 129, 'gust': 0.52}, 'visibility': 10000, 'pop': 0, 'sys': {'pod': 'n'}, 'dt_txt': '2025-09-26 21:00:00'}, {'dt': 1758931200, 'main': {'temp': 15.41, 'feels_like': 14.99, 'temp_min': 15.41, 'temp_max': 15.41, 'pressure': 1021, 'sea_level': 1021, 'grnd_level': 996, 'humidity': 76, 'temp_kf': 0}, 'weather': [{'id': 800, 'main': 'Clear', 'description': 'clear sky', 'icon': '01n'}], 'clouds': {'all': 1}, 'wind': {'speed': 0.84, 'deg': 68, 'gust': 0.78}, 'visibility': 10000, 'pop': 0, 'sys': {'pod': 'n'}, 'dt_txt': '2025-09-27 00:00:00'}, {'dt': 1758942000, 'main': {'temp': 14.5, 'feels_like': 14.04, 'temp_min': 14.5, 'temp_max': 14.5, 'pressure': 1020, 'sea_level': 1020, 'grnd_level': 996, 'humidity': 78, 'temp_kf': 0}, 'weather': [{'id': 800, 'main': 'Clear', 'description': 'clear sky', 'icon': '01n'}], 'clouds': {'all': 0}, 'wind': {'speed': 0.72, 'deg': 63, 'gust': 0.71}, 'visibility': 10000, 'pop': 0, 'sys': {'pod': 'n'}, 'dt_txt': '2025-09-27 03:00:00'}, {'dt': 1758952800, 'main': {'temp': 14.51, 'feels_like': 13.92, 'temp_min': 14.51, 'temp_max': 14.51, 'pressure': 1020, 'sea_level': 1020, 'grnd_level': 996, 'humidity': 73, 'temp_kf': 0}, 'weather': [{'id': 800, 'main': 'Clear', 'description': 'clear sky', 'icon': '01d'}], 'clouds': {'all': 1}, 'wind': {'speed': 0.95, 'deg': 72, 'gust': 1.13}, 'visibility': 10000, 'pop': 0, 'sys': {'pod': 'd'}, 'dt_txt': '2025-09-27 06:00:00'}, {'dt': 1758963600, 'main': {'temp': 20.41, 'feels_like': 19.79, 'temp_min': 20.41, 'temp_max': 20.41, 'pressure': 1020, 'sea_level': 1020, 'grnd_level': 996, 'humidity': 49, 'temp_kf': 0}, 'weather': [{'id': 800, 'main': 'Clear', 'description': 'clear sky', 'icon': '01d'}], 'clouds': {'all': 0}, 'wind': {'speed': 0.76, 'deg': 326, 'gust': 0.86}, 'visibility': 10000, 'pop': 0, 'sys': {'pod': 'd'}, 'dt_txt': '2025-09-27 09:00:00'}, {'dt': 1758974400, 'main': {'temp': 23.78, 'feels_like': 23.15, 'temp_min': 23.78, 'temp_max': 23.78, 'pressure': 1019, 'sea_level': 1019, 'grnd_level': 995, 'humidity': 36, 'temp_kf': 0}, 'weather': [{'id': 800, 'main': 'Clear', 'description': 'clear sky', 'icon': '01d'}], 'clouds': {'all': 1}, 'wind': {'speed': 1.43, 'deg': 263, 'gust': 1.04}, 'visibility': 10000, 'pop': 0, 'sys': {'pod': 'd'}, 'dt_txt': '2025-09-27 12:00:00'}, {'dt': 1758985200, 'main': {'temp': 23.42, 'feels_like': 22.84, 'temp_min': 23.42, 'temp_max': 23.42, 'pressure': 1018, 'sea_level': 1018, 'grnd_level': 994, 'humidity': 39, 'temp_kf': 0}, 'weather': [{'id': 800, 'main': 'Clear', 'description': 'clear sky', 'icon': '01d'}], 'clouds': {'all': 6}, 'wind': {'speed': 2.8, 'deg': 269, 'gust': 2.68}, 'visibility': 10000, 'pop': 0, 'sys': {'pod': 'd'}, 'dt_txt': '2025-09-27 15:00:00'}, {'dt': 1758996000, 'main': {'temp': 19.64, 'feels_like': 19.12, 'temp_min': 19.64, 'temp_max': 19.64, 'pressure': 1019, 'sea_level': 1019, 'grnd_level': 995, 'humidity': 56, 'temp_kf': 0}, 'weather': [{'id': 800, 'main': 'Clear', 'description': 'clear sky', 'icon': '01n'}], 'clouds': {'all': 3}, 'wind': {'speed': 0.86, 'deg': 351, 'gust': 0.92}, 'visibility': 10000, 'pop': 0, 'sys': {'pod': 'n'}, 'dt_txt': '2025-09-27 18:00:00'}, {'dt': 1759006800, 'main': {'temp': 17.42, 'feels_like': 16.99, 'temp_min': 17.42, 'temp_max': 17.42, 'pressure': 1019, 'sea_level': 1019, 'grnd_level': 995, 'humidity': 68, 'temp_kf': 0}, 'weather': [{'id': 800, 'main': 'Clear', 'description': 'clear sky', 'icon': '01n'}], 'clouds': {'all': 0}, 'wind': {'speed': 1, 'deg': 38, 'gust': 1.14}, 'visibility': 10000, 'pop': 0, 'sys': {'pod': 'n'}, 'dt_txt': '2025-09-27 21:00:00'}, {'dt': 1759017600, 'main': {'temp': 16.08, 'feels_like': 15.68, 'temp_min': 16.08, 'temp_max': 16.08, 'pressure': 1019, 'sea_level': 1019, 'grnd_level': 995, 'humidity': 74, 'temp_kf': 0}, 'weather': [{'id': 800, 'main': 'Clear', 'description': 'clear sky', 'icon': '01n'}], 'clouds': {'all': 3}, 'wind': {'speed': 0.98, 'deg': 55, 'gust': 1.03}, 'visibility': 10000, 'pop': 0, 'sys': {'pod': 'n'}, 'dt_txt': '2025-09-28 00:00:00'}, {'dt': 1759028400, 'main': {'temp': 15.11, 'feels_like': 14.71, 'temp_min': 15.11, 'temp_max': 15.11, 'pressure': 1019, 'sea_level': 1019, 'grnd_level': 995, 'humidity': 78, 'temp_kf': 0}, 'weather': [{'id': 802, 'main': 'Clouds', 'description': 'scattered clouds', 'icon': '03n'}], 'clouds': {'all': 29}, 'wind': {'speed': 1.22, 'deg': 38, 'gust': 1.3}, 'visibility': 10000, 'pop': 0, 'sys': {'pod': 'n'}, 'dt_txt': '2025-09-28 03:00:00'}, {'dt': 1759039200, 'main': {'temp': 14.81, 'feels_like': 14.36, 'temp_min': 14.81, 'temp_max': 14.81, 'pressure': 1019, 'sea_level': 1019, 'grnd_level': 995, 'humidity': 77, 'temp_kf': 0}, 'weather': [{'id': 801, 'main': 'Clouds', 'description': 'few clouds', 'icon': '02d'}], 'clouds': {'all': 20}, 'wind': {'speed': 1.11, 'deg': 48, 'gust': 1.86}, 'visibility': 10000, 'pop': 0, 'sys': {'pod': 'd'}, 'dt_txt': '2025-09-28 06:00:00'}, {'dt': 1759050000, 'main': {'temp': 20.06, 'feels_like': 19.64, 'temp_min': 20.06, 'temp_max': 20.06, 'pressure': 1019, 'sea_level': 1019, 'grnd_level': 995, 'humidity': 58, 'temp_kf': 0}, 'weather': [{'id': 804, 'main': 'Clouds', 'description': 'overcast clouds', 'icon': '04d'}], 'clouds': {'all': 100}, 'wind': {'speed': 1.4, 'deg': 20, 'gust': 2.26}, 'visibility': 10000, 'pop': 0, 'sys': {'pod': 'd'}, 'dt_txt': '2025-09-28 09:00:00'}, {'dt': 1759060800, 'main': {'temp': 23.26, 'feels_like': 22.79, 'temp_min': 23.26, 'temp_max': 23.26, 'pressure': 1018, 'sea_level': 1018, 'grnd_level': 994, 'humidity': 44, 'temp_kf': 0}, 'weather': [{'id': 804, 'main': 'Clouds', 'description': 'overcast clouds', 'icon': '04d'}], 'clouds': {'all': 100}, 'wind': {'speed': 1.05, 'deg': 309, 'gust': 1.36}, 'visibility': 10000, 'pop': 0, 'sys': {'pod': 'd'}, 'dt_txt': '2025-09-28 12:00:00'}, {'dt': 1759071600, 'main': {'temp': 23.13, 'feels_like': 22.6, 'temp_min': 23.13, 'temp_max': 23.13, 'pressure': 1018, 'sea_level': 1018, 'grnd_level': 994, 'humidity': 42, 'temp_kf': 0}, 'weather': [{'id': 804, 'main': 'Clouds', 'description': 'overcast clouds', 'icon': '04d'}], 'clouds': {'all': 99}, 'wind': {'speed': 1.47, 'deg': 323, 'gust': 0.97}, 'visibility': 10000, 'pop': 0, 'sys': {'pod': 'd'}, 'dt_txt': '2025-09-28 15:00:00'}, {'dt': 1759082400, 'main': {'temp': 19.63, 'feels_like': 19.27, 'temp_min': 19.63, 'temp_max': 19.63, 'pressure': 1018, 'sea_level': 1018, 'grnd_level': 994, 'humidity': 62, 'temp_kf': 0}, 'weather': [{'id': 804, 'main': 'Clouds', 'description': 'overcast clouds', 'icon': '04n'}], 'clouds': {'all': 100}, 'wind': {'speed': 2.02, 'deg': 26, 'gust': 3.91}, 'visibility': 10000, 'pop': 0, 'sys': {'pod': 'n'}, 'dt_txt': '2025-09-28 18:00:00'}, {'dt': 1759093200, 'main': {'temp': 17.42, 'feels_like': 17.1, 'temp_min': 17.42, 'temp_max': 17.42, 'pressure': 1019, 'sea_level': 1019, 'grnd_level': 995, 'humidity': 72, 'temp_kf': 0}, 'weather': [{'id': 804, 'main': 'Clouds', 'description': 'overcast clouds', 'icon': '04n'}], 'clouds': {'all': 100}, 'wind': {'speed': 1.58, 'deg': 38, 'gust': 2.74}, 'visibility': 10000, 'pop': 0, 'sys': {'pod': 'n'}, 'dt_txt': '2025-09-28 21:00:00'}, {'dt': 1759104000, 'main': {'temp': 16.15, 'feels_like': 15.81, 'temp_min': 16.15, 'temp_max': 16.15, 'pressure': 1019, 'sea_level': 1019, 'grnd_level': 995, 'humidity': 76, 'temp_kf': 0}, 'weather': [{'id': 804, 'main': 'Clouds', 'description': 'overcast clouds', 'icon': '04n'}], 'clouds': {'all': 86}, 'wind': {'speed': 1.32, 'deg': 51, 'gust': 2.02}, 'visibility': 10000, 'pop': 0, 'sys': {'pod': 'n'}, 'dt_txt': '2025-09-29 00:00:00'}, {'dt': 1759114800, 'main': {'temp': 15.23, 'feels_like': 14.87, 'temp_min': 15.23, 'temp_max': 15.23, 'pressure': 1019, 'sea_level': 1019, 'grnd_level': 995, 'humidity': 79, 'temp_kf': 0}, 'weather': [{'id': 803, 'main': 'Clouds', 'description': 'broken clouds', 'icon': '04n'}], 'clouds': {'all': 68}, 'wind': {'speed': 1.31, 'deg': 49, 'gust': 1.84}, 'visibility': 10000, 'pop': 0, 'sys': {'pod': 'n'}, 'dt_txt': '2025-09-29 03:00:00'}, {'dt': 1759125600, 'main': {'temp': 15.18, 'feels_like': 14.82, 'temp_min': 15.18, 'temp_max': 15.18, 'pressure': 1020, 'sea_level': 1020, 'grnd_level': 995, 'humidity': 79, 'temp_kf': 0}, 'weather': [{'id': 803, 'main': 'Clouds', 'description': 'broken clouds', 'icon': '04d'}], 'clouds': {'all': 73}, 'wind': {'speed': 1.09, 'deg': 48, 'gust': 1.86}, 'visibility': 10000, 'pop': 0, 'sys': {'pod': 'd'}, 'dt_txt': '2025-09-29 06:00:00'}, {'dt': 1759136400, 'main': {'temp': 21, 'feels_like': 20.59, 'temp_min': 21, 'temp_max': 21, 'pressure': 1020, 'sea_level': 1020, 'grnd_level': 996, 'humidity': 55, 'temp_kf': 0}, 'weather': [{'id': 801, 'main': 'Clouds', 'description': 'few clouds', 'icon': '02d'}], 'clouds': {'all': 12}, 'wind': {'speed': 1.29, 'deg': 10, 'gust': 2.03}, 'visibility': 10000, 'pop': 0, 'sys': {'pod': 'd'}, 'dt_txt': '2025-09-29 09:00:00'}, {'dt': 1759147200, 'main': {'temp': 24.71, 'feels_like': 24.25, 'temp_min': 24.71, 'temp_max': 24.71, 'pressure': 1019, 'sea_level': 1019, 'grnd_level': 995, 'humidity': 39, 'temp_kf': 0}, 'weather': [{'id': 801, 'main': 'Clouds', 'description': 'few clouds', 'icon': '02d'}], 'clouds': {'all': 13}, 'wind': {'speed': 1.25, 'deg': 291, 'gust': 1.46}, 'visibility': 10000, 'pop': 0, 'sys': {'pod': 'd'}, 'dt_txt': '2025-09-29 12:00:00'}, {'dt': 1759158000, 'main': {'temp': 24.31, 'feels_like': 23.76, 'temp_min': 24.31, 'temp_max': 24.31, 'pressure': 1019, 'sea_level': 1019, 'grnd_level': 995, 'humidity': 37, 'temp_kf': 0}, 'weather': [{'id': 804, 'main': 'Clouds', 'description': 'overcast clouds', 'icon': '04d'}], 'clouds': {'all': 100}, 'wind': {'speed': 1.38, 'deg': 285, 'gust': 1.43}, 'visibility': 10000, 'pop': 0, 'sys': {'pod': 'd'}, 'dt_txt': '2025-09-29 15:00:00'}, {'dt': 1759168800, 'main': {'temp': 20.91, 'feels_like': 20.49, 'temp_min': 20.91, 'temp_max': 20.91, 'pressure': 1020, 'sea_level': 1020, 'grnd_level': 996, 'humidity': 55, 'temp_kf': 0}, 'weather': [{'id': 804, 'main': 'Clouds', 'description': 'overcast clouds', 'icon': '04n'}], 'clouds': {'all': 100}, 'wind': {'speed': 1.9, 'deg': 2, 'gust': 3.73}, 'visibility': 10000, 'pop': 0, 'sys': {'pod': 'n'}, 'dt_txt': '2025-09-29 18:00:00'}, {'dt': 1759179600, 'main': {'temp': 18.26, 'feels_like': 17.84, 'temp_min': 18.26, 'temp_max': 18.26, 'pressure': 1022, 'sea_level': 1022, 'grnd_level': 998, 'humidity': 65, 'temp_kf': 0}, 'weather': [{'id': 804, 'main': 'Clouds', 'description': 'overcast clouds', 'icon': '04n'}], 'clouds': {'all': 89}, 'wind': {'speed': 1.29, 'deg': 49, 'gust': 1.84}, 'visibility': 10000, 'pop': 0, 'sys': {'pod': 'n'}, 'dt_txt': '2025-09-29 21:00:00'}], 'city': {'id': 3176959, 'name': 'Florence', 'coord': {'lat': 43.7667, 'lon': 11.25}, 'country': 'IT', 'population': 371517, 'timezone': 7200, 'sunrise': 1758776732, 'sunset': 1758820067}}\n",
      "                  time  temperature  humidity weather_status  wind_speed  \\\n",
      "0  2025-09-25 00:00:00        16.21        77           Rain        1.60   \n",
      "1  2025-09-25 03:00:00        16.31        78           Rain        1.98   \n",
      "2  2025-09-25 06:00:00        16.30        77         Clouds        1.68   \n",
      "3  2025-09-25 09:00:00        19.18        79           Rain        1.95   \n",
      "4  2025-09-25 12:00:00        18.87        80           Rain        1.05   \n",
      "\n",
      "   rain_volume_3h  snow_volume_3h  \n",
      "0            0.19             NaN  \n",
      "1            0.13             NaN  \n",
      "2             NaN             NaN  \n",
      "3            0.96             NaN  \n",
      "4            1.57             NaN  \n"
     ]
    }
   ],
   "source": [
    "data = response.json()\n",
    "#print(data)\n",
    "\n",
    "# Extract forecast list\n",
    "forecast_list = data.get('list', [])\n",
    "\n",
    "# Prepare lists for DataFrame columns\n",
    "times = []\n",
    "temperatures = []\n",
    "humidities = []\n",
    "weather_statuses = []\n",
    "wind_speeds = []\n",
    "rain_volumes = []\n",
    "snow_volumes = []\n",
    "\n",
    "for entry in forecast_list:\n",
    "    times.append(entry.get('dt_txt', np.nan))\n",
    "    temperatures.append(entry.get('main', {}).get('temp', np.nan))\n",
    "    humidities.append(entry.get('main', {}).get('humidity', np.nan))\n",
    "    weather_statuses.append(entry.get('weather', [{}])[0].get('main', np.nan))\n",
    "    wind_speeds.append(entry.get('wind', {}).get('speed', np.nan))\n",
    "    rain_volumes.append(entry.get('rain', {}).get('3h', np.nan))\n",
    "    snow_volumes.append(entry.get('snow', {}).get('3h', np.nan))\n",
    "\n",
    "# Create DataFrame\n",
    "df = pd.DataFrame({\n",
    "    'time': times,\n",
    "    'temperature': temperatures,\n",
    "    'humidity': humidities,\n",
    "    'weather_status': weather_statuses,\n",
    "    'wind_speed': wind_speeds,\n",
    "    'rain_volume_3h': rain_volumes,\n",
    "    'snow_volume_3h': snow_volumes\n",
    "})\n",
    "\n",
    "print(df.head())"
   ]
  },
  {
   "cell_type": "code",
   "execution_count": null,
   "id": "aa9d89a1",
   "metadata": {},
   "outputs": [],
   "source": []
  }
 ],
 "metadata": {
  "kernelspec": {
   "display_name": "Python 3",
   "language": "python",
   "name": "python3"
  },
  "language_info": {
   "codemirror_mode": {
    "name": "ipython",
    "version": 3
   },
   "file_extension": ".py",
   "mimetype": "text/x-python",
   "name": "python",
   "nbconvert_exporter": "python",
   "pygments_lexer": "ipython3",
   "version": "3.11.9"
  }
 },
 "nbformat": 4,
 "nbformat_minor": 5
}
