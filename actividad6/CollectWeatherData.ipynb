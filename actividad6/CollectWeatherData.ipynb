{
 "cells": [
  {
   "cell_type": "code",
   "execution_count": 1,
   "id": "0609b4b6",
   "metadata": {},
   "outputs": [],
   "source": [
    "import requests\n",
    "import pandas as pd\n",
    "import numpy as np\n",
    "from keys import *\n",
    "\n",
    "#Nombre de la Ciudad \n",
    "city = \"Naucalpan\"\n",
    "\n",
    "#Abreviatura de del PAIS\n",
    "country = \"MX\"\n",
    "\n",
    "#Se pide el clima a la página web/\n",
    "response = requests.get(f'http://api.openweathermap.org/data/2.5/forecast/?q={city},{country}&appid={OWM_key}&units=metric&lang=en')"
   ]
  },
  {
   "cell_type": "code",
   "execution_count": 2,
   "id": "452f01b4",
   "metadata": {},
   "outputs": [
    {
     "name": "stdout",
     "output_type": "stream",
     "text": [
      "                  time  temperature  humidity weather_status  wind_speed  \\\n",
      "0  2025-10-02 00:00:00        23.41        36         Clouds        5.83   \n",
      "1  2025-10-02 03:00:00        21.27        44         Clouds        3.23   \n",
      "2  2025-10-02 06:00:00        18.08        62         Clouds        2.46   \n",
      "3  2025-10-02 09:00:00        14.92        77           Rain        2.52   \n",
      "4  2025-10-02 12:00:00        14.69        75           Rain        1.69   \n",
      "\n",
      "   rain_volume_3h  snow_volume_3h  \n",
      "0             NaN             NaN  \n",
      "1             NaN             NaN  \n",
      "2             NaN             NaN  \n",
      "3            0.12             NaN  \n",
      "4            0.17             NaN  \n"
     ]
    }
   ],
   "source": [
    "#Guardam los datos del clima en formato JSON\n",
    "data = response.json()\n",
    "#print(data)\n",
    "\n",
    "# Extraemos la lista del pronóstico del clima\n",
    "forecast_list = data.get('list', [])\n",
    "\n",
    "# Preparamos listas para las columnas del DataFrame\n",
    "times = []\n",
    "temperatures = []\n",
    "humidities = []\n",
    "weather_statuses = []\n",
    "wind_speeds = []\n",
    "rain_volumes = []\n",
    "snow_volumes = []\n",
    "\n",
    "# extraemos los datos para cada columna, tamperatura, humedad, etc \n",
    "\n",
    "for entry in forecast_list:\n",
    "    times.append(entry.get('dt_txt', np.nan))\n",
    "    temperatures.append(entry.get('main', {}).get('temp', np.nan))\n",
    "    humidities.append(entry.get('main', {}).get('humidity', np.nan))\n",
    "    weather_statuses.append(entry.get('weather', [{}])[0].get('main', np.nan))\n",
    "    wind_speeds.append(entry.get('wind', {}).get('speed', np.nan))\n",
    "    rain_volumes.append(entry.get('rain', {}).get('3h', np.nan))\n",
    "    snow_volumes.append(entry.get('snow', {}).get('3h', np.nan))\n",
    "\n",
    "# Creamos DataFrame\n",
    "df = pd.DataFrame({\n",
    "    'time': times,\n",
    "    'temperature': temperatures,\n",
    "    'humidity': humidities,\n",
    "    'weather_status': weather_statuses,\n",
    "    'wind_speed': wind_speeds,\n",
    "    'rain_volume_3h': rain_volumes,\n",
    "    'snow_volume_3h': snow_volumes\n",
    "})\n",
    "\n",
    "print(df.head())"
   ]
  },
  {
   "cell_type": "code",
   "execution_count": null,
   "id": "aa9d89a1",
   "metadata": {},
   "outputs": [],
   "source": []
  }
 ],
 "metadata": {
  "kernelspec": {
   "display_name": "Python 3",
   "language": "python",
   "name": "python3"
  },
  "language_info": {
   "codemirror_mode": {
    "name": "ipython",
    "version": 3
   },
   "file_extension": ".py",
   "mimetype": "text/x-python",
   "name": "python",
   "nbconvert_exporter": "python",
   "pygments_lexer": "ipython3",
   "version": "3.11.9"
  }
 },
 "nbformat": 4,
 "nbformat_minor": 5
}
